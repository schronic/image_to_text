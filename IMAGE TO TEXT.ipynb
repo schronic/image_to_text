{
 "cells": [
  {
   "cell_type": "code",
   "execution_count": null,
   "id": "6dc4c693",
   "metadata": {},
   "outputs": [],
   "source": [
    "# TESSERACT IMAGE TO TEXT"
   ]
  },
  {
   "cell_type": "code",
   "execution_count": 1,
   "id": "1be0d18d",
   "metadata": {},
   "outputs": [],
   "source": [
    "import cv2\n",
    "import os\n",
    "import numpy as np\n",
    "import pytesseract\n",
    "from PIL import Image\n"
   ]
  },
  {
   "cell_type": "code",
   "execution_count": null,
   "id": "cdba81c4",
   "metadata": {},
   "outputs": [],
   "source": [
    "def get_string(img_path):\n",
    "    # Read image using opencv\n",
    "    img = cv2.imread(img_path)\n",
    "\n",
    "    # Extract the file name without the file extension\n",
    "    file_name = os.path.basename(img_path).split('.')[0]\n",
    "    file_name = file_name.split()[0]\n",
    "    output_dir = img_path.split('/')[0]\n",
    "    \n",
    "    \n",
    "    # Create a directory for outputs\n",
    "    output_path = os.path.join(output_dir, file_name)\n",
    "    if not os.path.exists(output_path):\n",
    "        os.makedirs(output_path)\n",
    "    \n",
    "    # Rescale the image, if needed.\n",
    "    img = cv2.resize(img, None, fx=1.5, fy=1.5, interpolation=cv2.INTER_CUBIC)\n",
    "    \n",
    "    # Convert to gray\n",
    "    img = cv2.cvtColor(img, cv2.COLOR_BGR2GRAY)\n",
    "\n",
    "    # Apply dilation and erosion to remove some noise\n",
    "    kernel = np.ones((1, 1), np.uint8)\n",
    "    img = cv2.dilate(img, kernel, iterations=1)\n",
    "    img = cv2.erode(img, kernel, iterations=1)\n",
    "    # Apply blur to smooth out the edges\n",
    "    img = cv2.GaussianBlur(img, (5, 5), 0)\n",
    "    \n",
    "    # Apply threshold to get image with only b&w (binarization)\n",
    "    img = cv2.threshold(img, 0, 255, cv2.THRESH_BINARY + cv2.THRESH_OTSU)[1]\n",
    "    \n",
    "    # Save the filtered image in the output directory\n",
    "    save_path = os.path.join(output_path, file_name + \"_filter_\" + \".jpg\")\n",
    "    cv2.imwrite(save_path, img)\n",
    "\n",
    "    # Recognize text with tesseract for python\n",
    "    result = pytesseract.image_to_string(img, lang=\"eng\")\n",
    "    return result\n"
   ]
  },
  {
   "cell_type": "code",
   "execution_count": 17,
   "id": "c3077096",
   "metadata": {},
   "outputs": [],
   "source": [
    "l = []\n",
    "s = f'Screenshot{i}'\n",
    "\n",
    "im1 = Image.open(f'Data/{s}.png')\n",
    "im1 = im1.convert('RGB')\n",
    "im1.save(f'Data/{s}.jpg')\n",
    "\n",
    "\n",
    "r = get_string(f'Data/{s}.jpg')\n",
    "r = ' '.join(r.split('\\n'))\n",
    "\n",
    "l.append(r)"
   ]
  },
  {
   "cell_type": "code",
   "execution_count": 18,
   "id": "535692fc",
   "metadata": {},
   "outputs": [
    {
     "name": "stdout",
     "output_type": "stream",
     "text": [
      "1.2 ANALYZE:  Unstrukturierte Daten werden analysiert, strukturiert und interpretiert. Diverse Methoden, u.a. Machine Learning, verfeinern diese Daten zu leicht verstandlichen und objektiven Ergebnissen, wie z.B. intuitiven Tabellen, Netzwerken oder Trendcharts, die allen Managementebenen prasentiert und wiederholt erstellt werden kénnen. Um nur einige Beispiele zu nennen:  Sie erschlieBen und bewerten Webseiten, Nachrichten, wissenschaftliche Publikationen und Projekte, Patente, Podcast und entsprechende Filter und Zeitreihenanalysen.  Sie identifizieren relevante Schlagwérter, iIndustrien, Technologiebereiche = und wissenschaftliche Disziplinen.  Sie lernen mit unserer KI eigene Kategorien und Modelle an, um mit ihnen zu arbeiten und die Brucke in Ihre Organisationspektiven zu schlagen.  Sie identifizieren alle F&E-aktiven Organisationen (Unternehmen, Universitaten, Start-ups) und Experten,  Sie identifizieren und bewerten relevante Trends und Vorhersagen sowie Sentiments.  Sie nutzen miachtige Visualisierungen (z.B. Netzwerke, Wordclouds, Geomaps, Rankings, Matrizen, Landschaften). \n",
      "1.3 EMPOWER:  Die webbasierte SaaS-Plattform SCOUT standardisiert, rationalisiert und zentralisiert Ihre F&E/Innovationsprozesse. Sie fungiert als zentrale Informationsdrehscheibe Uber Abteilungsgrenzen hinweg.  Unterstutzt durch leistungsstarke automatisierte Informationen kénnen Ihre Analysten, Experten und Manager gemeinsam reprasentative Analysen erstellen und auf Grundlage fundierter Erkenntnisse Entscheidungen effektiv und effizient voranbringen. Berichte mit selbsterklarenden Visualisierungen wie Grafiken, Tabellen oder Trendcharts werden mit wenigen Klicks erstellt und verteilt. Alle Ergebnisse sind hochaktuell, um sicherzustellen, dass Ihr immer auf dem nevesten Stand bleibt.  In einer komplexen Organisation gibt es eine Vielzahl von Projekten, Technologien, Themen, Produkten, Industrien, Wettbewerbern, Partnern, oder Startups. Sie haben ein umfangreiches Portfolio, welches regelmaBig bewertet und beobachtet wird.  Unser Portfoliomanagement ermédglicht, dass sie sowohl mithilfe der vollautomatischen MAPEGY Kennzahlen ihr gesamtes Portfolio nach neuen Signalen und Themen beobachten als auch als Team regelmaBig auf Basis dieser Kennzahlen und aller weiteren Daten und Fakten eigene Nutzer- und Unternehmensbewertungen vornehmen kénnen. \n",
      "Selbstverstandlich stellen wir zur einfachen Bewertung Ihres Portfolios und Kommunikation der Ergebnisse neben der Tabellenform (siehe oben) auch Visualisierungen wie einen Radar zur Verfugung, der automatisch gespeist wird und in Eurem Netzwerk einfach geteilt werden kann.  Alle Suchen, Daten, Visualisierungen, Dokumente oder Projekte kénnen gespeichert und kuratiert werden. Sie kénnen Alerts aufsetzen und im Team inner- und auBerhalb der Organisation an den Ergebnissen arbeiten, so dass Sie zur rechten Zeit am richtigen Ort alle Daten und Fakten auf dem Tisch haben, um die bestmdgliche Entscheidung zu fallen. \n"
     ]
    }
   ],
   "source": [
    "for i in l:\n",
    "    print(i)"
   ]
  },
  {
   "cell_type": "code",
   "execution_count": null,
   "id": "09e15cca",
   "metadata": {},
   "outputs": [],
   "source": []
  }
 ],
 "metadata": {
  "kernelspec": {
   "display_name": "Python 3 (ipykernel)",
   "language": "python",
   "name": "python3"
  },
  "language_info": {
   "codemirror_mode": {
    "name": "ipython",
    "version": 3
   },
   "file_extension": ".py",
   "mimetype": "text/x-python",
   "name": "python",
   "nbconvert_exporter": "python",
   "pygments_lexer": "ipython3",
   "version": "3.8.9"
  }
 },
 "nbformat": 4,
 "nbformat_minor": 5
}
